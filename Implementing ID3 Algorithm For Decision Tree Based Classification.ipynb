{
 "cells": [
  {
   "cell_type": "markdown",
   "metadata": {},
   "source": [
    "## Implementing ID3 Algorithm For Decision Tree Based Classification"
   ]
  },
  {
   "cell_type": "code",
   "execution_count": 1,
   "metadata": {
    "collapsed": false
   },
   "outputs": [],
   "source": [
    "import numpy as np \n",
    "import pandas as pd\n",
    "import math \n",
    "import operator\n",
    "import random\n",
    "import warnings\n",
    "warnings.filterwarnings('ignore')\n",
    "\n",
    "%matplotlib inline\n",
    "import numpy as np\n",
    "import matplotlib.pyplot as plt                                # plotting\n",
    "from scipy.stats import multivariate_normal                    # multivariate Gaussian distribution\n",
    "import copy    # deep copies\n",
    "import csv"
   ]
  },
  {
   "cell_type": "code",
   "execution_count": 2,
   "metadata": {
    "collapsed": false
   },
   "outputs": [],
   "source": [
    "#Input data\n",
    "\n",
    "data=pd.read_csv(\"train.csv\")\n",
    "test=pd.read_csv(\"test.csv\")"
   ]
  },
  {
   "cell_type": "code",
   "execution_count": 113,
   "metadata": {
    "collapsed": false
   },
   "outputs": [],
   "source": [
    "test=pd.read_csv(\"test.csv\")"
   ]
  },
  {
   "cell_type": "code",
   "execution_count": 110,
   "metadata": {
    "collapsed": false
   },
   "outputs": [],
   "source": [
    "data['AgeGroup']=None\n",
    "\n",
    "for i in range(0,len(data)):\n",
    "    if data['Age'].iloc[i]<=10:\n",
    "        data['AgeGroup'].iloc[i]='A'\n",
    "    if data['Age'].iloc[i]>10 and data['Age'].iloc[i]<=30:\n",
    "        data['AgeGroup'].iloc[i]='B'\n",
    "    if data['Age'].iloc[i]>30:\n",
    "        data['AgeGroup'].iloc[i]='C'\n",
    "    "
   ]
  },
  {
   "cell_type": "code",
   "execution_count": 114,
   "metadata": {
    "collapsed": false
   },
   "outputs": [],
   "source": [
    "test['AgeGroup']=None\n",
    "\n",
    "for i in range(0,len(test)):\n",
    "    if test['Age'].iloc[i]<=10:\n",
    "        test['AgeGroup'].iloc[i]='A'\n",
    "    if test['Age'].iloc[i]>10 and test['Age'].iloc[i]<=30:\n",
    "        test['AgeGroup'].iloc[i]='B'\n",
    "    if test['Age'].iloc[i]>30:\n",
    "        test['AgeGroup'].iloc[i]='C'"
   ]
  },
  {
   "cell_type": "code",
   "execution_count": 5,
   "metadata": {
    "collapsed": true
   },
   "outputs": [],
   "source": [
    "#Subroutine to calculate Shannon Entorpy\n",
    "\n",
    "def entropy(p):\n",
    "    if p!=0:\n",
    "        return -p*np.log2(p)\n",
    "    else:\n",
    "        return 0        "
   ]
  },
  {
   "cell_type": "markdown",
   "metadata": {},
   "source": [
    "### Following code snippet implements calculation for information gain. This attribute is used to select the best feature to split the decision tree on."
   ]
  },
  {
   "cell_type": "code",
   "execution_count": 6,
   "metadata": {
    "collapsed": false
   },
   "outputs": [],
   "source": [
    "def info_gain(data,classes,feature):\n",
    "    #prepare list of feature classes\n",
    "    overallClasses={classes[0]:0,classes[1]:0}\n",
    "    FeatureClasses={}\n",
    "    for i in range(0,len(data)):\n",
    "        if (data.iloc[i][feature] not in FeatureClasses.keys()) and (pd.notnull(data.iloc[i][feature])):\n",
    "            FeatureClasses[data.iloc[i][feature]]=[0,0,0]\n",
    "\n",
    "    #loop through the data to count the number of +ve and -ve example for each features type in the feature column\n",
    "    #total number of examples corresponding to each feature type is sum of +ve and -ve\n",
    "    for i in range(0,len(data)):\n",
    "        if  pd.notnull(data.iloc[i][feature]):        \n",
    "            if data.iloc[i]['Survived']==classes[0]:\n",
    "                FeatureClasses[data.iloc[i][feature]][0]+=1\n",
    "                FeatureClasses[data.iloc[i][feature]][2]+=1\n",
    "            else:\n",
    "                FeatureClasses[data.iloc[i][feature]][1]+=1\n",
    "                FeatureClasses[data.iloc[i][feature]][2]+=1\n",
    "    #get the overall count\n",
    "    for keys in FeatureClasses.keys():\n",
    "        overallClasses[0]+=FeatureClasses[keys][0]\n",
    "        overallClasses[1]+=FeatureClasses[keys][1]\n",
    "        \n",
    "    overallEntropy=entropy(overallClasses[0]/len(data))+entropy(overallClasses[1]/len(data))\n",
    "    #final entropy after dividing the data on the basis of feature\n",
    "    FinalEntropy=0\n",
    "    for keys in FeatureClasses.keys():\n",
    "        FinalEntropy+=entropy(FeatureClasses[keys][0]/FeatureClasses[keys][2])\n",
    "    \n",
    "    InformationGain=overallEntropy-FinalEntropy\n",
    "        \n",
    "    return InformationGain"
   ]
  },
  {
   "cell_type": "markdown",
   "metadata": {},
   "source": [
    "### Creating leaf nodes"
   ]
  },
  {
   "cell_type": "code",
   "execution_count": 7,
   "metadata": {
    "collapsed": true
   },
   "outputs": [],
   "source": [
    "def create_leaf(data):\n",
    "    leaf = {'splitting_feature' : None,\n",
    "            'children' : None,\n",
    "            'is_leaf':  True}\n",
    "    \n",
    "    ones=data['Survived'][data['Survived']==1].count()\n",
    "    zeroes=data['Survived'][data['Survived']==0].count()\n",
    "    \n",
    "    if ones>zeroes:\n",
    "        leaf['Prediction']=1\n",
    "    else:\n",
    "        leaf['Prediction']=0\n",
    "    \n",
    "    return leaf"
   ]
  },
  {
   "cell_type": "markdown",
   "metadata": {},
   "source": [
    "### Subroutine to calculate best feature to split upon. This subroutine uses \"info_gain\" subroutine implemented above "
   ]
  },
  {
   "cell_type": "code",
   "execution_count": 8,
   "metadata": {
    "collapsed": true
   },
   "outputs": [],
   "source": [
    "def best_splitting_feature(data):\n",
    "    Features=list(data)\n",
    "    Features.remove('Survived')\n",
    "    FeatureEntropies={}\n",
    "    for colNames in Features:\n",
    "        FeatureEntropies[colNames]=info_gain(data,[0,1],colNames)\n",
    "    \n",
    "    return max(FeatureEntropies, key=FeatureEntropies.get)"
   ]
  },
  {
   "cell_type": "markdown",
   "metadata": {},
   "source": [
    "### Subroutine for recursively creating the tree"
   ]
  },
  {
   "cell_type": "code",
   "execution_count": 9,
   "metadata": {
    "collapsed": false
   },
   "outputs": [],
   "source": [
    "def create_tree(data, depth, maxdepth):\n",
    "    if(len(list(data))==1):\n",
    "        return create_leaf(data)\n",
    "    \n",
    "    if(len(data)==0):\n",
    "        return create_leaf(data)\n",
    "    \n",
    "    if(depth>=maxdepth):\n",
    "        return create_leaf(data)\n",
    "\n",
    "    splitting_feature=best_splitting_feature(data)\n",
    "    uniqueFeatures=data[splitting_feature].unique()\n",
    "    \n",
    "    uniqueFeaturesDict={}\n",
    "    children={}\n",
    "    for uqFea in uniqueFeatures:\n",
    "        children[uqFea]=None\n",
    "        uniqueFeaturesDict[uqFea]=data[data[splitting_feature]==uqFea]\n",
    "        uniqueFeaturesDict[uqFea]=uniqueFeaturesDict[uqFea].drop(splitting_feature,axis=1)\n",
    "    \n",
    "    for uqFea in uniqueFeatures:\n",
    "        children[uqFea]=create_tree(uniqueFeaturesDict[uqFea],depth+1, maxdepth)\n",
    "        \n",
    "    return {'splitting_feature' : splitting_feature,\n",
    "            'children': children,\n",
    "            'is_leaf':  False}"
   ]
  },
  {
   "cell_type": "code",
   "execution_count": 115,
   "metadata": {
    "collapsed": false
   },
   "outputs": [],
   "source": [
    "data['e'] = pd.Series(np.random.randn(len(data)), index=data.index)\n",
    "msk = np.random.rand(len(data['e'])) < 0.7\n",
    "data_train=data[msk]\n",
    "data_test=data[~msk]\n",
    "features = ['Sex','Embarked','Pclass','Survived','AgeGroup']\n",
    "tree=create_tree(data_train[features],0,4)"
   ]
  },
  {
   "cell_type": "markdown",
   "metadata": {},
   "source": [
    "###  Following snippet implements various subroutines to plot a decision tree. It uses matplotlib annotations."
   ]
  },
  {
   "cell_type": "code",
   "execution_count": 11,
   "metadata": {
    "collapsed": false
   },
   "outputs": [],
   "source": [
    "def getNumLeafs(node):\n",
    "    if(node['is_leaf']==True):\n",
    "        return 1\n",
    "    count=0\n",
    "    for child in node['children'].keys():\n",
    "        count+=getNumLeafs(node['children'][child])\n",
    "    \n",
    "    return count\n",
    "\n",
    "def getTreeDepth(node):\n",
    "    if(node['is_leaf']==True):\n",
    "        return 1\n",
    "    \n",
    "    maxDepth=0\n",
    "    for child in node['children'].keys():\n",
    "        depth=1+getTreeDepth(node['children'][child])\n",
    "        if depth>maxDepth:\n",
    "            maxDepth=depth\n",
    "    return maxDepth\n",
    "\n",
    "decisionNode = dict(boxstyle=\"sawtooth\", fc=\"0.8\")\n",
    "leafNode = dict(boxstyle=\"round4\", fc=\"0.8\")\n",
    "arrow_args = dict(arrowstyle=\"<-\")\n",
    "\n",
    "def plotNode(nodeTxt, centerPt, parentPt, nodeType):\n",
    "    createPlot.ax1.annotate(nodeTxt, xy=parentPt,\n",
    "    xycoords='axes fraction',\n",
    "    xytext=centerPt, textcoords='axes fraction',\n",
    "    va=\"center\", ha=\"center\", bbox=nodeType, arrowprops=arrow_args)\n",
    "\n",
    "def plotMidText(cntrPt, parentPt, txtString):\n",
    "    xMid = (parentPt[0]-cntrPt[0])/2.0 + cntrPt[0]\n",
    "    yMid = (parentPt[1]-cntrPt[1])/2.0 + cntrPt[1]\n",
    "    createPlot.ax1.text(xMid, yMid, txtString)\n",
    "    \n",
    "def plotTree(myTree, parentPt, nodeTxt):\n",
    "    numLeafs = getNumLeafs(myTree)\n",
    "    getTreeDepth(myTree)\n",
    "    firstStr = myTree['splitting_feature']\n",
    "    cntrPt = (plotTree.xOff + (1.0 + float(numLeafs))/2.0/plotTree.totalW,plotTree.yOff)\n",
    "    plotMidText(cntrPt, parentPt, nodeTxt)\n",
    "    plotNode(firstStr, cntrPt, parentPt, decisionNode)\n",
    "    secondDict = myTree['children']\n",
    "    plotTree.yOff = plotTree.yOff - 1.0/plotTree.totalD\n",
    "    for key in secondDict.keys():\n",
    "        if secondDict[key]['is_leaf']==False:\n",
    "            plotTree(secondDict[key],cntrPt,str(key))\n",
    "        else:\n",
    "            plotTree.xOff = plotTree.xOff + 1.0/plotTree.totalW\n",
    "            plotNode(secondDict[key]['Prediction'], (plotTree.xOff, plotTree.yOff),cntrPt, leafNode)\n",
    "            plotMidText((plotTree.xOff, plotTree.yOff), cntrPt, str(key))\n",
    "    plotTree.yOff = plotTree.yOff + 1.0/plotTree.totalD\n",
    "    \n",
    "def createPlot(inTree):\n",
    "    fig = plt.figure(1, facecolor='white')\n",
    "    fig.clf()\n",
    "    axprops = dict(xticks=[], yticks=[])\n",
    "    createPlot.ax1 = plt.subplot(111, frameon=False, **axprops)\n",
    "    plotTree.totalW = float(getNumLeafs(inTree))\n",
    "    plotTree.totalD = float(getTreeDepth(inTree))\n",
    "    plotTree.xOff = -0.5/plotTree.totalW; plotTree.yOff = 1.0;\n",
    "    plotTree(inTree, (0.5,1.0), '')\n",
    "    plt.show()"
   ]
  },
  {
   "cell_type": "code",
   "execution_count": 116,
   "metadata": {
    "collapsed": false
   },
   "outputs": [
    {
     "data": {
      "image/png": "[encoded data removed]",
      "text/plain": [
       "<matplotlib.figure.Figure at 0xa9a80f0>"
      ]
     },
     "metadata": {},
     "output_type": "display_data"
    }
   ],
   "source": [
    "createPlot(tree)"
   ]
  },
  {
   "cell_type": "markdown",
   "metadata": {},
   "source": [
    "### Subroutine to classify new data points using the above desicion tree"
   ]
  },
  {
   "cell_type": "code",
   "execution_count": 15,
   "metadata": {
    "collapsed": false
   },
   "outputs": [],
   "source": [
    "def classify(tree, data):\n",
    "    if(tree['is_leaf']==True):\n",
    "        return tree['Prediction']\n",
    "    \n",
    "    if data[tree['splitting_feature']] not in tree['children'].keys():\n",
    "        return 0\n",
    "    \n",
    "    featureVal=None\n",
    "    for feats in tree['children'].keys():\n",
    "        if data[tree['splitting_feature']]==feats:\n",
    "            featureVal=feats \n",
    "    prediction=classify(tree['children'][featureVal],data)\n",
    "    \n",
    "    return prediction    "
   ]
  },
  {
   "cell_type": "markdown",
   "metadata": {},
   "source": [
    "## Checking accuracy of built tree"
   ]
  },
  {
   "cell_type": "code",
   "execution_count": 117,
   "metadata": {
    "collapsed": false
   },
   "outputs": [
    {
     "name": "stdout",
     "output_type": "stream",
     "text": [
      "78.57142857142857\n"
     ]
    }
   ],
   "source": [
    "data_test=data_test[features][pd.notnull(data_test['Embarked'])]\n",
    "count=0\n",
    "for i in range(0,len(data_test)):\n",
    "    pred=classify(tree,data_test.iloc[i])\n",
    "    if pred==data_test.iloc[i]['Survived']:\n",
    "        count+=1\n",
    "        \n",
    "print(count/len(data_test)*100)"
   ]
  },
  {
   "cell_type": "markdown",
   "metadata": {},
   "source": [
    "## Classifying Titanic data on real test data"
   ]
  },
  {
   "cell_type": "code",
   "execution_count": 118,
   "metadata": {
    "collapsed": false
   },
   "outputs": [],
   "source": [
    "features = ['Sex','Embarked','Pclass','AgeGroup']\n",
    "test=test[features]\n",
    "pred=[]\n",
    "for i in range(0,len(test)): \n",
    "    pred.append(classify(tree,test.iloc[i]))      "
   ]
  },
  {
   "cell_type": "code",
   "execution_count": 119,
   "metadata": {
    "collapsed": false
   },
   "outputs": [],
   "source": [
    "with open(\"output1.csv\", \"w\") as f:\n",
    "    writer = csv.writer(f,lineterminator='\\n')\n",
    "    writer.writerows([pred])"
   ]
  }
 ],
 "metadata": {
  "anaconda-cloud": {},
  "kernelspec": {
   "display_name": "Python [Root]",
   "language": "python",
   "name": "Python [Root]"
  },
  "language_info": {
   "codemirror_mode": {
    "name": "ipython",
    "version": 3
   },
   "file_extension": ".py",
   "mimetype": "text/x-python",
   "name": "python",
   "nbconvert_exporter": "python",
   "pygments_lexer": "ipython3",
   "version": "3.5.2"
  }
 },
 "nbformat": 4,
 "nbformat_minor": 0
}
