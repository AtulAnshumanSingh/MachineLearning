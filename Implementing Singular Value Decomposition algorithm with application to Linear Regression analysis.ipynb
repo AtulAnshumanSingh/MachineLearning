{
 "cells": [
  {
   "cell_type": "markdown",
   "metadata": {},
   "source": [
    "# Implementing Singular Value Decomposition algorithm with application to Linear Regression analysis"
   ]
  },
  {
   "cell_type": "markdown",
   "metadata": {},
   "source": [
    "Routines in this implemetation are based on discussions given in [1], which are themselves based on algorithm by Golub and Kahan ([2],[3]) and its implementation presented in [2]. Some parts of the algorithm, such as the convergence of QR step, are essentially based on recommendations by Demmel and Kahan [4]. \n",
    "\n",
    "This implemention is still in development, since I aim to make it free of any external package dependancy. Numpy and matplotlib have been used only for matrix multiplication and plotting. More features would be added to this implemention to make it more robust.\n",
    "\n",
    "Essentially, this algorithm first reduces the matrix to an upper-bidiagonal matrix by application of **Householder reduction**. Then upper-bidiagonal matrix is reduced to a diagonal matrix by iterative application of **QR decomposition**. Diagonals of the matrix so obtained are singular values of the matrix.  \n",
    "\n",
    "SVD so obtained is further used to calculate pseudo-inverse in the Linear Regression analysis. "
   ]
  },
  {
   "cell_type": "code",
   "execution_count": 2,
   "metadata": {
    "collapsed": false
   },
   "outputs": [],
   "source": [
    "import numpy as np \n",
    "import matplotlib.pyplot as plt                                "
   ]
  },
  {
   "cell_type": "code",
   "execution_count": 3,
   "metadata": {
    "collapsed": true
   },
   "outputs": [],
   "source": [
    "%matplotlib inline"
   ]
  },
  {
   "cell_type": "code",
   "execution_count": 4,
   "metadata": {
    "collapsed": false
   },
   "outputs": [],
   "source": [
    "def housegen(a):\n",
    "    u=a\n",
    "    v=np.linalg.norm(a)\n",
    "    if v==0:\n",
    "        u[0]=np.sqrt(2)\n",
    "        return u,v\n",
    "    elif(u[0]!=0):\n",
    "        rho=u[0]/abs(u[0])\n",
    "    else:\n",
    "        rho=1\n",
    "\n",
    "    u=np.multiply((rho/v),u)\n",
    "    u[0]=1+u[0]\n",
    "    u=u/np.sqrt(u[0])\n",
    "    v=-rho*v\n",
    "    return u,v    "
   ]
  },
  {
   "cell_type": "code",
   "execution_count": 5,
   "metadata": {
    "collapsed": false
   },
   "outputs": [],
   "source": [
    "def BiReduce(X,m,n):\n",
    "    d=np.matrix(np.zeros((1,n)))\n",
    "    e=np.matrix(np.zeros((1,n)))\n",
    "    for k in range(0,n):\n",
    "        if(k<n):\n",
    "            a,d[0,k]=housegen(X[k:m,k])\n",
    "            X[k:m,k]=a\n",
    "            b=a.T*X[k:m,k+1:n]\n",
    "            X[k:m,k+1:n]=X[k:m,k+1:n]-a*b\n",
    "        \n",
    "        if(k<n-2):\n",
    "            b,e[0,k]=housegen(X[k,k+1:n].T)\n",
    "            X[k,k+1:n]=b.T\n",
    "            a=X[k+1:m,k+1:n]*b\n",
    "            X[k+1:m,k+1:n]=X[k+1:m,k+1:n]-a*b.T\n",
    "    e[0,n-2]=X[n-2,n-1]\n",
    "    U=np.matrix(np.diag(np.ones(m)))\n",
    "    for k in range(min(n-1,m-1),-1,-1):\n",
    "        a=X[k:,k]\n",
    "        b=a.T*U[k:m,k:n]\n",
    "        U[k:m,k:n]=U[k:m,k:n]-a*b\n",
    "    \n",
    "    V=np.matrix(np.diag(np.ones(n)))\n",
    "    for k in range(n-3,-1,-1):\n",
    "        b=X[k,k+1:n].T\n",
    "        a=b.T*V[k+1:n,k+1:n]\n",
    "        V[k+1:n,k+1:n]=V[k+1:n,k+1:n]-b*a\n",
    "    return e,d,U,V"
   ]
  },
  {
   "cell_type": "code",
   "execution_count": 6,
   "metadata": {
    "collapsed": false
   },
   "outputs": [],
   "source": [
    "def rotgen(a,b):\n",
    "    if(b==0):\n",
    "        c=1\n",
    "        s=0\n",
    "        return c,s\n",
    "    if(a==0):\n",
    "        c=0\n",
    "        s=1\n",
    "        a=b\n",
    "        b=0\n",
    "        return c,s\n",
    "    u=a/abs(a)\n",
    "    tau=abs(a)+abs(b)\n",
    "    eta=tau*(np.sqrt((a/tau)*(a/tau)+(b/tau)*(b/tau)))\n",
    "    c=abs(a)/eta\n",
    "    s=u*(b/eta)\n",
    "    a=eta*u\n",
    "    b=0\n",
    "    return c,s"
   ]
  },
  {
   "cell_type": "code",
   "execution_count": 7,
   "metadata": {
    "collapsed": true
   },
   "outputs": [],
   "source": [
    "def rotapp(c,s,x,y):\n",
    "    t=c*x+s*y\n",
    "    y=c*y-s*x\n",
    "    x=t\n",
    "    return x,y"
   ]
  },
  {
   "cell_type": "code",
   "execution_count": 8,
   "metadata": {
    "collapsed": false
   },
   "outputs": [],
   "source": [
    "def BiQR(d,e,sigma,i1,i2,U,V):\n",
    "    scl=max(d[0,i1],e[0,i1],sigma)\n",
    "    dl=d[0,i1]/scl\n",
    "    el=e[0,i1]/scl\n",
    "    sig=sigma/scl\n",
    "    f=(dl+sig)*(dl-sig)\n",
    "    g=dl*el\n",
    "    for k in range(i1,i2):\n",
    "        c,s=rotgen(f,g)\n",
    "        if k!=i1:\n",
    "            e[0,k-1]=f\n",
    "        f=c*d[0,k]+s*e[0,k]\n",
    "        e[0,k]=c*e[0,k]-s*d[0,k]\n",
    "        g=s*d[0,k+1]\n",
    "        d[0,k+1]=c*d[0,k+1]\n",
    "        V[:,k],V[:,k+1]=rotapp(c,s,V[:,k],V[:,k+1])\n",
    "        c,s=rotgen(f,g)\n",
    "        d[0,k]=f\n",
    "        f=c*e[0,k]+s*d[0,k+1]\n",
    "        d[0,k+1]=c*d[0,k+1]-s*e[0,k]\n",
    "        if k<i2-1:\n",
    "            g=s*e[0,k+1]\n",
    "            e[0,k+1]=c*e[0,k+1]\n",
    "        U[:,k],U[:,k+1]=rotapp(c,s,U[:,k],U[:,k+1])\n",
    "    e[0,i2-2]=f \n",
    "    return d,e,U,V"
   ]
  },
  {
   "cell_type": "code",
   "execution_count": 9,
   "metadata": {
    "collapsed": true
   },
   "outputs": [],
   "source": [
    "def BdBackSearch(d,e,tol,l):\n",
    "    i2=l\n",
    "    i1=l\n",
    "    while i1>0:\n",
    "        if(i1==i2):\n",
    "            tau=d[0,i1]\n",
    "        elif(e[0,i1-1]!=0):\n",
    "            tau=d[0,i1]*(tau/(tau+abs(e[0,i1-1])))\n",
    "        \n",
    "        if abs(e[0,i1-1])<=tol*tau:\n",
    "            e[0,i1-1]=0\n",
    "            if(i1==i2):\n",
    "                i1=i1-1\n",
    "                i2=i1-1\n",
    "            else:\n",
    "                return\n",
    "        else:\n",
    "            i1=i1-1\n",
    "    return i1,i2 "
   ]
  },
  {
   "cell_type": "code",
   "execution_count": 10,
   "metadata": {
    "collapsed": true
   },
   "outputs": [],
   "source": [
    "def lm(X,Y,m,n,its):\n",
    "    X1=np.matrix(X)\n",
    "    e,d,U,V=BiReduce(X1,m,n)\n",
    "    p=d[0,n-2]\n",
    "    r=e[0,n-1]\n",
    "    q=d[0,n-1]\n",
    "    sigma_max=(np.sqrt((p+q)*(p+q)+r*r)+np.sqrt((p-q)*(p-q)+r*r))/2\n",
    "    sigma_min=abs(p*q)/sigma_max\n",
    "    i1,i2=BdBackSearch(d,e,0.0000000001,1)\n",
    "\n",
    "    for k in range(0,its):\n",
    "        d,e,U,V=BiQR(d,e,sigma_min,i1,i2,U,V)\n",
    "    SIG=np.matrix(np.vstack([np.diag([d[0,0],d[0,1]]),np.zeros((m-n,2))]))\n",
    "    for k in range(0,2):\n",
    "        if SIG[k,k]!=0:\n",
    "            SIG[k,k]=1/SIG[k,k]\n",
    "    x=V*SIG.T*U.T*Y\n",
    "    \n",
    "    return x"
   ]
  },
  {
   "cell_type": "code",
   "execution_count": 63,
   "metadata": {
    "collapsed": false
   },
   "outputs": [],
   "source": [
    "def generate_MoG_data(num_data, means, covariances, weights):\n",
    "    \"\"\" Creates a list of data points \"\"\"\n",
    "    num_clusters = len(weights)\n",
    "    data = [\n",
    "    ]\n",
    "    for i in range(num_data):\n",
    "        k = np.random.choice(len(weights), 1, p=weights)[0]\n",
    "        x = np.random.multivariate_normal(means[k], covariances[k])\n",
    "        data.append(x)\n",
    "    return data\n",
    "\n",
    "\n",
    "init_means = [\n",
    "    [5, 0], # mean of cluster 1\n",
    "]\n",
    "init_covariances = [\n",
    "    [[.5, .9], [0, .1]], # covariance of cluster 1\n",
    "]\n",
    "init_weights = [1]  # weights of each cluster\n",
    "\n",
    "# Generate data\n",
    "np.random.seed(4)\n",
    "data = generate_MoG_data(100, init_means, init_covariances, init_weights)\n",
    "data=np.array(data)\n",
    "X=np.hstack([np.matrix(np.ones(len(data[:,0]))).T,np.matrix(np.power(data[:,0],1)).T])\n",
    "Y=np.matrix(data[:,1]).T"
   ]
  },
  {
   "cell_type": "code",
   "execution_count": 64,
   "metadata": {
    "collapsed": false
   },
   "outputs": [
    {
     "data": {
      "image/png": "[encoded data removed]",
      "text/plain": [
       "<matplotlib.figure.Figure at 0x5c469e8>"
      ]
     },
     "metadata": {},
     "output_type": "display_data"
    }
   ],
   "source": [
    "plt.figure()\n",
    "d1 = np.vstack(data)\n",
    "plt.scatter(d1[:,0], Y,s=50)\n",
    "plt.rcParams.update({'font.size':16})\n",
    "plt.tight_layout()\n",
    "plt.title('Simulated Data')\n",
    "plt.show()"
   ]
  },
  {
   "cell_type": "code",
   "execution_count": 65,
   "metadata": {
    "collapsed": false
   },
   "outputs": [],
   "source": [
    "coeff=lm(X,Y,100,2,10)"
   ]
  },
  {
   "cell_type": "code",
   "execution_count": 67,
   "metadata": {
    "collapsed": false
   },
   "outputs": [
    {
     "data": {
      "image/png": "[encoded data removed]",
      "text/plain": [
       "<matplotlib.figure.Figure at 0x5c0bac8>"
      ]
     },
     "metadata": {},
     "output_type": "display_data"
    }
   ],
   "source": [
    "#Linear Regression\n",
    "xx = np.linspace(3.5, 7, 20)\n",
    "yy = np.array(coeff[0] + coeff[1]* np.power(xx,1) )\n",
    "plt.plot(xx, yy.T, color='r')\n",
    "plt.scatter(d1[:,0], Y,s=50)\n",
    "plt.show()"
   ]
  }
 ],
 "metadata": {
  "anaconda-cloud": {},
  "kernelspec": {
   "display_name": "Python [Root]",
   "language": "python",
   "name": "Python [Root]"
  },
  "language_info": {
   "codemirror_mode": {
    "name": "ipython",
    "version": 3
   },
   "file_extension": ".py",
   "mimetype": "text/x-python",
   "name": "python",
   "nbconvert_exporter": "python",
   "pygments_lexer": "ipython3",
   "version": "3.5.2"
  }
 },
 "nbformat": 4,
 "nbformat_minor": 0
}
