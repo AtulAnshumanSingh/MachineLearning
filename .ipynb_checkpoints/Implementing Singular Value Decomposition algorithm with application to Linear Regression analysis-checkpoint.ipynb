{
 "cells": [
  {
   "cell_type": "markdown",
   "metadata": {},
   "source": [
    "# Implementing Singular Value Decomposition algorithm with application to Linear Regression analysis"
   ]
  },
  {
   "cell_type": "markdown",
   "metadata": {},
   "source": [
    "Routines in this implemetation are based on discussions given in [1], which are themselves based on algorithm by Golub and Kahan ([2]) and its implementation presented in [3] by Golub and Reinsch.  \n",
    "\n",
    "This implemention is still in development, since I aim to make it free of any external package dependancy. Numpy and matplotlib have been used only for matrix multiplication and plotting. More features would be added to this implemention to make it more robust.\n",
    "\n",
    "Essentially, this algorithm first reduces the matrix to an upper-bidiagonal matrix by application of **Householder reduction**. Then upper-bidiagonal matrix is reduced to a diagonal matrix by iterative application of **QR decomposition**. Diagonals of the matrix so obtained are singular values of the matrix.  \n",
    "\n",
    "SVD so obtained is further used to calculate pseudo-inverse in the Linear Regression analysis. \n",
    "\n",
    "\n",
    "**_References_**\n",
    "\n",
    "[1] Stewart, Gilbert W. Matrix Algorithms: Volume II: Eigensystems. Society for Industrial and Applied Mathematics, 2001.\n",
    "\n",
    "[2] Golub, Gene, and William Kahan. \"Calculating the singular values and pseudo-inverse of a matrix.\" Journal of the Society for Industrial and Applied Mathematics, Series B: Numerical Analysis 2.2 (1965): 205-224.\n",
    "\n",
    "[3] Golub, Gene H., and Christian Reinsch. \"Singular value decomposition and least squares solutions.\" Numerische mathematik 14.5 (1970): 403-420."
   ]
  },
  {
   "cell_type": "code",
   "execution_count": 1,
   "metadata": {},
   "outputs": [],
   "source": [
    "import numpy as np \n",
    "import matplotlib.pyplot as plt                                "
   ]
  },
  {
   "cell_type": "code",
   "execution_count": 2,
   "metadata": {
    "collapsed": true
   },
   "outputs": [],
   "source": [
    "%matplotlib inline"
   ]
  },
  {
   "cell_type": "code",
   "execution_count": 4,
   "metadata": {},
   "outputs": [],
   "source": [
    "def housegen(a):\n",
    "    u=a\n",
    "    v=np.linalg.norm(a)\n",
    "    if v==0:\n",
    "        u[0]=np.sqrt(2)\n",
    "        return u,v\n",
    "    elif(u[0]!=0):\n",
    "        rho=u[0]/abs(u[0])\n",
    "    else:\n",
    "        rho=1\n",
    "\n",
    "    u=np.multiply((rho/v),u)\n",
    "    u[0]=1+u[0]\n",
    "    u=u/np.sqrt(u[0])\n",
    "    v=-rho*v\n",
    "    return u,v    "
   ]
  },
  {
   "cell_type": "code",
   "execution_count": 5,
   "metadata": {},
   "outputs": [],
   "source": [
    "def BiReduce(X,m,n):\n",
    "    d=np.matrix(np.zeros((1,n)))\n",
    "    e=np.matrix(np.zeros((1,n)))\n",
    "    for k in range(0,n):\n",
    "        if(k<n):\n",
    "            a,d[0,k]=housegen(X[k:m,k])\n",
    "            X[k:m,k]=a\n",
    "            b=a.T*X[k:m,k+1:n]\n",
    "            X[k:m,k+1:n]=X[k:m,k+1:n]-a*b\n",
    "        \n",
    "        if(k<n-2):\n",
    "            b,e[0,k]=housegen(X[k,k+1:n].T)\n",
    "            X[k,k+1:n]=b.T\n",
    "            a=X[k+1:m,k+1:n]*b\n",
    "            X[k+1:m,k+1:n]=X[k+1:m,k+1:n]-a*b.T\n",
    "    e[0,n-2]=X[n-2,n-1]\n",
    "    U=np.matrix(np.diag(np.ones(m)))\n",
    "    for k in range(min(n-1,m-1),-1,-1):\n",
    "        a=X[k:,k]\n",
    "        b=a.T*U[k:m,k:n]\n",
    "        U[k:m,k:n]=U[k:m,k:n]-a*b\n",
    "    \n",
    "    V=np.matrix(np.diag(np.ones(n)))\n",
    "    for k in range(n-3,-1,-1):\n",
    "        b=X[k,k+1:n].T\n",
    "        a=b.T*V[k+1:n,k+1:n]\n",
    "        V[k+1:n,k+1:n]=V[k+1:n,k+1:n]-b*a\n",
    "    return e,d,U,V"
   ]
  },
  {
   "cell_type": "code",
   "execution_count": 6,
   "metadata": {},
   "outputs": [],
   "source": [
    "def rotgen(a,b):\n",
    "    if(b==0):\n",
    "        c=1\n",
    "        s=0\n",
    "        return c,s\n",
    "    if(a==0):\n",
    "        c=0\n",
    "        s=1\n",
    "        a=b\n",
    "        b=0\n",
    "        return c,s\n",
    "    u=a/abs(a)\n",
    "    tau=abs(a)+abs(b)\n",
    "    eta=tau*(np.sqrt((a/tau)*(a/tau)+(b/tau)*(b/tau)))\n",
    "    c=abs(a)/eta\n",
    "    s=u*(b/eta)\n",
    "    a=eta*u\n",
    "    b=0\n",
    "    return c,s"
   ]
  },
  {
   "cell_type": "code",
   "execution_count": 7,
   "metadata": {
    "collapsed": true
   },
   "outputs": [],
   "source": [
    "def rotapp(c,s,x,y):\n",
    "    t=c*x+s*y\n",
    "    y=c*y-s*x\n",
    "    x=t\n",
    "    return x,y"
   ]
  },
  {
   "cell_type": "code",
   "execution_count": 8,
   "metadata": {},
   "outputs": [],
   "source": [
    "def BiQR(d,e,sigma,i1,i2,U,V):\n",
    "    scl=max(d[0,i1],e[0,i1],sigma)\n",
    "    dl=d[0,i1]/scl\n",
    "    el=e[0,i1]/scl\n",
    "    sig=sigma/scl\n",
    "    f=(dl+sig)*(dl-sig)\n",
    "    g=dl*el\n",
    "    for k in range(i1,i2):\n",
    "        c,s=rotgen(f,g)\n",
    "        if k!=i1:\n",
    "            e[0,k-1]=f\n",
    "        f=c*d[0,k]+s*e[0,k]\n",
    "        e[0,k]=c*e[0,k]-s*d[0,k]\n",
    "        g=s*d[0,k+1]\n",
    "        d[0,k+1]=c*d[0,k+1]\n",
    "        V[:,k],V[:,k+1]=rotapp(c,s,V[:,k],V[:,k+1])\n",
    "        c,s=rotgen(f,g)\n",
    "        d[0,k]=f\n",
    "        f=c*e[0,k]+s*d[0,k+1]\n",
    "        d[0,k+1]=c*d[0,k+1]-s*e[0,k]\n",
    "        if k<i2-1:\n",
    "            g=s*e[0,k+1]\n",
    "            e[0,k+1]=c*e[0,k+1]\n",
    "        U[:,k],U[:,k+1]=rotapp(c,s,U[:,k],U[:,k+1])\n",
    "    e[0,i2-2]=f \n",
    "    return d,e,U,V"
   ]
  },
  {
   "cell_type": "code",
   "execution_count": 9,
   "metadata": {
    "collapsed": true
   },
   "outputs": [],
   "source": [
    "def BdBackSearch(d,e,tol,l):\n",
    "    i2=l\n",
    "    i1=l\n",
    "    while i1>0:\n",
    "        if(i1==i2):\n",
    "            tau=d[0,i1]\n",
    "        elif(e[0,i1-1]!=0):\n",
    "            tau=d[0,i1]*(tau/(tau+abs(e[0,i1-1])))\n",
    "        \n",
    "        if abs(e[0,i1-1])<=tol*tau:\n",
    "            e[0,i1-1]=0\n",
    "            if(i1==i2):\n",
    "                i1=i1-1\n",
    "                i2=i1-1\n",
    "            else:\n",
    "                return\n",
    "        else:\n",
    "            i1=i1-1\n",
    "    return i1,i2 "
   ]
  },
  {
   "cell_type": "code",
   "execution_count": 10,
   "metadata": {
    "collapsed": true
   },
   "outputs": [],
   "source": [
    "def lm(X,Y,m,n,its):\n",
    "    X1=np.matrix(X)\n",
    "    e,d,U,V=BiReduce(X1,m,n)\n",
    "    p=d[0,n-2]\n",
    "    r=e[0,n-1]\n",
    "    q=d[0,n-1]\n",
    "    sigma_max=(np.sqrt((p+q)*(p+q)+r*r)+np.sqrt((p-q)*(p-q)+r*r))/2\n",
    "    sigma_min=abs(p*q)/sigma_max\n",
    "    i1,i2=BdBackSearch(d,e,0.0000000001,1)\n",
    "\n",
    "    for k in range(0,its):\n",
    "        d,e,U,V=BiQR(d,e,sigma_min,i1,i2,U,V)\n",
    "    SIG=np.matrix(np.vstack([np.diag([d[0,0],d[0,1]]),np.zeros((m-n,2))]))\n",
    "    for k in range(0,2):\n",
    "        if SIG[k,k]!=0:\n",
    "            SIG[k,k]=1/SIG[k,k]\n",
    "    x=V*SIG.T*U.T*Y\n",
    "    \n",
    "    return x"
   ]
  },
  {
   "cell_type": "code",
   "execution_count": 11,
   "metadata": {},
   "outputs": [],
   "source": [
    "def generate_MoG_data(num_data, means, covariances, weights):\n",
    "    \"\"\" Creates a list of data points \"\"\"\n",
    "    num_clusters = len(weights)\n",
    "    data = [\n",
    "    ]\n",
    "    for i in range(num_data):\n",
    "        k = np.random.choice(len(weights), 1, p=weights)[0]\n",
    "        x = np.random.multivariate_normal(means[k], covariances[k])\n",
    "        data.append(x)\n",
    "    return data\n",
    "\n",
    "\n",
    "init_means = [\n",
    "    [5, 0], # mean of cluster 1\n",
    "]\n",
    "init_covariances = [\n",
    "    [[.5, .1], [.1, .1]], # covariance of cluster 1\n",
    "]\n",
    "init_weights = [1]  # weights of each cluster\n",
    "\n",
    "# Generate data\n",
    "np.random.seed(4)\n",
    "data = generate_MoG_data(100, init_means, init_covariances, init_weights)\n",
    "data=np.array(data)\n",
    "X=np.hstack([np.matrix(np.ones(len(data[:,0]))).T,np.matrix(np.power(data[:,0],1)).T])\n",
    "Y=np.matrix(data[:,1]).T"
   ]
  },
  {
   "cell_type": "code",
   "execution_count": 18,
   "metadata": {},
   "outputs": [
    {
     "data": {
      "text/plain": [
       "array([[ 4.67997539e+00, -6.27675264e-02],\n",
       "       [ 5.65732346e+00,  3.52148218e-01],\n",
       "       [ 3.99920856e+00, -3.32474104e-01],\n",
       "       [ 4.83888028e+00, -3.63907357e-01],\n",
       "       [ 5.34916958e+00,  4.81598857e-02],\n",
       "       [ 4.56988949e+00, -1.26522747e-01],\n",
       "       [ 5.11420942e+00,  8.43783648e-02],\n",
       "       [ 5.79239830e+00,  2.86739625e-01],\n",
       "       [ 4.62814377e+00, -7.86346715e-01],\n",
       "       [ 5.68881487e+00,  1.78065499e-01],\n",
       "       [ 3.82202956e+00,  4.75855988e-01],\n",
       "       [ 3.87882374e+00, -5.80701589e-01],\n",
       "       [ 4.03206261e+00, -5.48772083e-02],\n",
       "       [ 5.11593436e+00, -6.42301480e-01],\n",
       "       [ 4.84983738e+00, -4.93962562e-01],\n",
       "       [ 5.14393588e+00,  2.60180248e-01],\n",
       "       [ 5.09523053e+00, -3.72117309e-01],\n",
       "       [ 5.04111447e+00,  2.37490569e-01],\n",
       "       [ 4.40850064e+00, -1.89615519e-01],\n",
       "       [ 4.56293524e+00, -6.25967752e-01],\n",
       "       [ 4.73877484e+00,  2.34877795e-01],\n",
       "       [ 5.98974049e+00,  3.91597204e-01],\n",
       "       [ 4.91283330e+00,  2.55101473e-01],\n",
       "       [ 4.99898396e+00, -2.08195875e-01],\n",
       "       [ 6.01266000e+00,  6.10289447e-01],\n",
       "       [ 4.76202335e+00,  5.08985464e-01],\n",
       "       [ 4.95307934e+00,  3.36138905e-01],\n",
       "       [ 4.43874457e+00, -1.27073072e-01],\n",
       "       [ 5.33304461e+00, -2.03667131e-01],\n",
       "       [ 5.80618921e+00,  4.03129353e-02],\n",
       "       [ 3.97444228e+00, -6.47926303e-01],\n",
       "       [ 5.49579250e+00, -3.21136040e-01],\n",
       "       [ 5.49149564e+00,  1.76397415e-01],\n",
       "       [ 4.29442656e+00, -1.79660720e-02],\n",
       "       [ 4.93157732e+00, -1.85088843e-01],\n",
       "       [ 4.43876555e+00,  5.23180773e-02],\n",
       "       [ 4.99409372e+00,  1.93898550e-01],\n",
       "       [ 5.00017341e+00, -9.54308524e-02],\n",
       "       [ 4.54395882e+00,  4.82151988e-01],\n",
       "       [ 6.21278004e+00,  1.63079039e-01],\n",
       "       [ 4.86834737e+00, -2.53667536e-01],\n",
       "       [ 4.06058548e+00, -3.49857465e-01],\n",
       "       [ 4.84439176e+00,  6.64897728e-02],\n",
       "       [ 5.32440541e+00, -2.73617077e-01],\n",
       "       [ 4.75520148e+00, -2.31877889e-01],\n",
       "       [ 4.46029349e+00,  1.64095755e-01],\n",
       "       [ 6.50280127e+00,  1.12388533e-01],\n",
       "       [ 5.92450021e+00, -1.13538128e-01],\n",
       "       [ 4.96990195e+00, -2.52972200e-01],\n",
       "       [ 4.73267998e+00,  1.78395864e-01],\n",
       "       [ 5.33172520e+00, -7.19989206e-02],\n",
       "       [ 5.67083344e+00, -1.55326102e-01],\n",
       "       [ 5.23089304e+00,  3.03991778e-02],\n",
       "       [ 5.01506244e+00,  1.88089866e-01],\n",
       "       [ 4.53551797e+00, -6.24234847e-02],\n",
       "       [ 5.29414455e+00,  3.55127164e-01],\n",
       "       [ 5.33579103e+00, -2.74754515e-01],\n",
       "       [ 4.48280708e+00, -2.15686362e-01],\n",
       "       [ 5.38207133e+00, -8.21063076e-02],\n",
       "       [ 5.22568756e+00,  3.07478502e-01],\n",
       "       [ 5.44864505e+00,  1.38974649e-03],\n",
       "       [ 4.84222052e+00, -4.67464699e-01],\n",
       "       [ 4.53456918e+00, -1.05117063e-01],\n",
       "       [ 3.37970886e+00, -7.64612327e-02],\n",
       "       [ 4.93441167e+00,  2.12876067e-01],\n",
       "       [ 3.52531436e+00, -4.16641163e-01],\n",
       "       [ 4.25517196e+00, -2.28307386e-01],\n",
       "       [ 5.46992837e+00,  5.68763915e-03],\n",
       "       [ 5.26570333e+00, -7.11952754e-02],\n",
       "       [ 4.15266432e+00, -7.59987426e-01],\n",
       "       [ 5.18345446e+00, -2.15595511e-01],\n",
       "       [ 5.19633422e+00,  6.03990760e-02],\n",
       "       [ 5.81306194e+00,  8.11045007e-02],\n",
       "       [ 5.32675937e+00,  1.04476579e-01],\n",
       "       [ 5.91999570e+00,  3.73522445e-01],\n",
       "       [ 5.83962474e+00,  8.01779236e-01],\n",
       "       [ 5.27773973e+00, -3.23926704e-01],\n",
       "       [ 5.17389769e+00, -1.23831678e-01],\n",
       "       [ 5.57397856e+00, -2.35581595e-01],\n",
       "       [ 4.32361509e+00, -2.26685172e-01],\n",
       "       [ 5.11068280e+00,  3.67908075e-01],\n",
       "       [ 5.57622764e+00,  6.79941624e-01],\n",
       "       [ 4.63084506e+00, -3.75693525e-02],\n",
       "       [ 5.75686725e+00,  5.06980745e-01],\n",
       "       [ 3.21402346e+00, -7.28390988e-01],\n",
       "       [ 5.34174119e+00, -2.02769334e-01],\n",
       "       [ 4.95112949e+00, -5.89441629e-02],\n",
       "       [ 4.53913801e+00, -1.18440568e-01],\n",
       "       [ 5.57216666e+00, -3.00521195e-01],\n",
       "       [ 4.85437481e+00, -1.19706654e-01],\n",
       "       [ 4.79516966e+00, -2.32358841e-01],\n",
       "       [ 4.98710863e+00, -1.25092799e-01],\n",
       "       [ 4.96619978e+00, -6.34153764e-02],\n",
       "       [ 5.53672773e+00,  9.44017374e-02],\n",
       "       [ 5.09154849e+00,  1.25716635e-01],\n",
       "       [ 4.36858502e+00, -1.54633352e-01],\n",
       "       [ 4.44163359e+00,  1.79998695e-02],\n",
       "       [ 5.12294125e+00,  3.51022916e-01],\n",
       "       [ 4.20172983e+00, -1.33598053e-01],\n",
       "       [ 5.17674149e+00, -7.82678137e-02]])"
      ]
     },
     "execution_count": 18,
     "metadata": {},
     "output_type": "execute_result"
    }
   ],
   "source": [
    "data"
   ]
  },
  {
   "cell_type": "code",
   "execution_count": 14,
   "metadata": {},
   "outputs": [
    {
     "ename": "ValueError",
     "evalue": "all the input array dimensions except for the concatenation axis must match exactly",
     "output_type": "error",
     "traceback": [
      "\u001b[1;31m---------------------------------------------------------------------------\u001b[0m",
      "\u001b[1;31mValueError\u001b[0m                                Traceback (most recent call last)",
      "\u001b[1;32m<ipython-input-14-457e3d471161>\u001b[0m in \u001b[0;36m<module>\u001b[1;34m()\u001b[0m\n\u001b[0;32m      1\u001b[0m \u001b[0mplt\u001b[0m\u001b[1;33m.\u001b[0m\u001b[0mfigure\u001b[0m\u001b[1;33m(\u001b[0m\u001b[1;33m)\u001b[0m\u001b[1;33m\u001b[0m\u001b[0m\n\u001b[0;32m      2\u001b[0m \u001b[0md1\u001b[0m \u001b[1;33m=\u001b[0m \u001b[0mnp\u001b[0m\u001b[1;33m.\u001b[0m\u001b[0mvstack\u001b[0m\u001b[1;33m(\u001b[0m\u001b[0mdata\u001b[0m\u001b[1;33m)\u001b[0m\u001b[1;33m\u001b[0m\u001b[0m\n\u001b[1;32m----> 3\u001b[1;33m \u001b[0mplt\u001b[0m\u001b[1;33m.\u001b[0m\u001b[0mscatter\u001b[0m\u001b[1;33m(\u001b[0m\u001b[0md1\u001b[0m\u001b[1;33m[\u001b[0m\u001b[1;33m:\u001b[0m\u001b[1;33m,\u001b[0m\u001b[1;36m0\u001b[0m\u001b[1;33m]\u001b[0m\u001b[1;33m,\u001b[0m \u001b[0mY\u001b[0m\u001b[1;33m,\u001b[0m\u001b[0ms\u001b[0m\u001b[1;33m=\u001b[0m\u001b[1;36m50\u001b[0m\u001b[1;33m)\u001b[0m\u001b[1;33m\u001b[0m\u001b[0m\n\u001b[0m\u001b[0;32m      4\u001b[0m \u001b[0mplt\u001b[0m\u001b[1;33m.\u001b[0m\u001b[0mrcParams\u001b[0m\u001b[1;33m.\u001b[0m\u001b[0mupdate\u001b[0m\u001b[1;33m(\u001b[0m\u001b[1;33m{\u001b[0m\u001b[1;34m'font.size'\u001b[0m\u001b[1;33m:\u001b[0m\u001b[1;36m16\u001b[0m\u001b[1;33m}\u001b[0m\u001b[1;33m)\u001b[0m\u001b[1;33m\u001b[0m\u001b[0m\n\u001b[0;32m      5\u001b[0m \u001b[0mplt\u001b[0m\u001b[1;33m.\u001b[0m\u001b[0mtight_layout\u001b[0m\u001b[1;33m(\u001b[0m\u001b[1;33m)\u001b[0m\u001b[1;33m\u001b[0m\u001b[0m\n",
      "\u001b[1;32m~\\AppData\\Local\\Continuum\\anaconda3\\lib\\site-packages\\matplotlib\\pyplot.py\u001b[0m in \u001b[0;36mscatter\u001b[1;34m(x, y, s, c, marker, cmap, norm, vmin, vmax, alpha, linewidths, verts, edgecolors, hold, data, **kwargs)\u001b[0m\n\u001b[0;32m   3355\u001b[0m                          \u001b[0mvmin\u001b[0m\u001b[1;33m=\u001b[0m\u001b[0mvmin\u001b[0m\u001b[1;33m,\u001b[0m \u001b[0mvmax\u001b[0m\u001b[1;33m=\u001b[0m\u001b[0mvmax\u001b[0m\u001b[1;33m,\u001b[0m \u001b[0malpha\u001b[0m\u001b[1;33m=\u001b[0m\u001b[0malpha\u001b[0m\u001b[1;33m,\u001b[0m\u001b[1;33m\u001b[0m\u001b[0m\n\u001b[0;32m   3356\u001b[0m                          \u001b[0mlinewidths\u001b[0m\u001b[1;33m=\u001b[0m\u001b[0mlinewidths\u001b[0m\u001b[1;33m,\u001b[0m \u001b[0mverts\u001b[0m\u001b[1;33m=\u001b[0m\u001b[0mverts\u001b[0m\u001b[1;33m,\u001b[0m\u001b[1;33m\u001b[0m\u001b[0m\n\u001b[1;32m-> 3357\u001b[1;33m                          edgecolors=edgecolors, data=data, **kwargs)\n\u001b[0m\u001b[0;32m   3358\u001b[0m     \u001b[1;32mfinally\u001b[0m\u001b[1;33m:\u001b[0m\u001b[1;33m\u001b[0m\u001b[0m\n\u001b[0;32m   3359\u001b[0m         \u001b[0max\u001b[0m\u001b[1;33m.\u001b[0m\u001b[0m_hold\u001b[0m \u001b[1;33m=\u001b[0m \u001b[0mwashold\u001b[0m\u001b[1;33m\u001b[0m\u001b[0m\n",
      "\u001b[1;32m~\\AppData\\Local\\Continuum\\anaconda3\\lib\\site-packages\\matplotlib\\__init__.py\u001b[0m in \u001b[0;36minner\u001b[1;34m(ax, *args, **kwargs)\u001b[0m\n\u001b[0;32m   1708\u001b[0m                     warnings.warn(msg % (label_namer, func.__name__),\n\u001b[0;32m   1709\u001b[0m                                   RuntimeWarning, stacklevel=2)\n\u001b[1;32m-> 1710\u001b[1;33m             \u001b[1;32mreturn\u001b[0m \u001b[0mfunc\u001b[0m\u001b[1;33m(\u001b[0m\u001b[0max\u001b[0m\u001b[1;33m,\u001b[0m \u001b[1;33m*\u001b[0m\u001b[0margs\u001b[0m\u001b[1;33m,\u001b[0m \u001b[1;33m**\u001b[0m\u001b[0mkwargs\u001b[0m\u001b[1;33m)\u001b[0m\u001b[1;33m\u001b[0m\u001b[0m\n\u001b[0m\u001b[0;32m   1711\u001b[0m         \u001b[0mpre_doc\u001b[0m \u001b[1;33m=\u001b[0m \u001b[0minner\u001b[0m\u001b[1;33m.\u001b[0m\u001b[0m__doc__\u001b[0m\u001b[1;33m\u001b[0m\u001b[0m\n\u001b[0;32m   1712\u001b[0m         \u001b[1;32mif\u001b[0m \u001b[0mpre_doc\u001b[0m \u001b[1;32mis\u001b[0m \u001b[1;32mNone\u001b[0m\u001b[1;33m:\u001b[0m\u001b[1;33m\u001b[0m\u001b[0m\n",
      "\u001b[1;32m~\\AppData\\Local\\Continuum\\anaconda3\\lib\\site-packages\\matplotlib\\axes\\_axes.py\u001b[0m in \u001b[0;36mscatter\u001b[1;34m(self, x, y, s, c, marker, cmap, norm, vmin, vmax, alpha, linewidths, verts, edgecolors, **kwargs)\u001b[0m\n\u001b[0;32m   4085\u001b[0m             \u001b[0mlinewidths\u001b[0m \u001b[1;33m=\u001b[0m \u001b[0mrcParams\u001b[0m\u001b[1;33m[\u001b[0m\u001b[1;34m'lines.linewidth'\u001b[0m\u001b[1;33m]\u001b[0m\u001b[1;33m\u001b[0m\u001b[0m\n\u001b[0;32m   4086\u001b[0m \u001b[1;33m\u001b[0m\u001b[0m\n\u001b[1;32m-> 4087\u001b[1;33m         \u001b[0moffsets\u001b[0m \u001b[1;33m=\u001b[0m \u001b[0mnp\u001b[0m\u001b[1;33m.\u001b[0m\u001b[0mcolumn_stack\u001b[0m\u001b[1;33m(\u001b[0m\u001b[1;33m[\u001b[0m\u001b[0mx\u001b[0m\u001b[1;33m,\u001b[0m \u001b[0my\u001b[0m\u001b[1;33m]\u001b[0m\u001b[1;33m)\u001b[0m\u001b[1;33m\u001b[0m\u001b[0m\n\u001b[0m\u001b[0;32m   4088\u001b[0m \u001b[1;33m\u001b[0m\u001b[0m\n\u001b[0;32m   4089\u001b[0m         collection = mcoll.PathCollection(\n",
      "\u001b[1;32m~\\AppData\\Local\\Continuum\\anaconda3\\lib\\site-packages\\numpy\\lib\\shape_base.py\u001b[0m in \u001b[0;36mcolumn_stack\u001b[1;34m(tup)\u001b[0m\n\u001b[0;32m    592\u001b[0m             \u001b[0marr\u001b[0m \u001b[1;33m=\u001b[0m \u001b[0marray\u001b[0m\u001b[1;33m(\u001b[0m\u001b[0marr\u001b[0m\u001b[1;33m,\u001b[0m \u001b[0mcopy\u001b[0m\u001b[1;33m=\u001b[0m\u001b[1;32mFalse\u001b[0m\u001b[1;33m,\u001b[0m \u001b[0msubok\u001b[0m\u001b[1;33m=\u001b[0m\u001b[1;32mTrue\u001b[0m\u001b[1;33m,\u001b[0m \u001b[0mndmin\u001b[0m\u001b[1;33m=\u001b[0m\u001b[1;36m2\u001b[0m\u001b[1;33m)\u001b[0m\u001b[1;33m.\u001b[0m\u001b[0mT\u001b[0m\u001b[1;33m\u001b[0m\u001b[0m\n\u001b[0;32m    593\u001b[0m         \u001b[0marrays\u001b[0m\u001b[1;33m.\u001b[0m\u001b[0mappend\u001b[0m\u001b[1;33m(\u001b[0m\u001b[0marr\u001b[0m\u001b[1;33m)\u001b[0m\u001b[1;33m\u001b[0m\u001b[0m\n\u001b[1;32m--> 594\u001b[1;33m     \u001b[1;32mreturn\u001b[0m \u001b[0m_nx\u001b[0m\u001b[1;33m.\u001b[0m\u001b[0mconcatenate\u001b[0m\u001b[1;33m(\u001b[0m\u001b[0marrays\u001b[0m\u001b[1;33m,\u001b[0m \u001b[1;36m1\u001b[0m\u001b[1;33m)\u001b[0m\u001b[1;33m\u001b[0m\u001b[0m\n\u001b[0m\u001b[0;32m    595\u001b[0m \u001b[1;33m\u001b[0m\u001b[0m\n\u001b[0;32m    596\u001b[0m \u001b[1;32mdef\u001b[0m \u001b[0mdstack\u001b[0m\u001b[1;33m(\u001b[0m\u001b[0mtup\u001b[0m\u001b[1;33m)\u001b[0m\u001b[1;33m:\u001b[0m\u001b[1;33m\u001b[0m\u001b[0m\n",
      "\u001b[1;31mValueError\u001b[0m: all the input array dimensions except for the concatenation axis must match exactly"
     ]
    },
    {
     "data": {
      "image/png": "[encoded data removed]",
      "text/plain": [
       "<matplotlib.figure.Figure at 0x10efd898>"
      ]
     },
     "metadata": {},
     "output_type": "display_data"
    }
   ],
   "source": [
    "plt.figure()\n",
    "d1 = np.vstack(data)\n",
    "plt.scatter(d1[:,0], Y,s=50)\n",
    "plt.rcParams.update({'font.size':16})\n",
    "plt.tight_layout()\n",
    "plt.title('Simulated Data')\n",
    "plt.show()"
   ]
  },
  {
   "cell_type": "code",
   "execution_count": 65,
   "metadata": {},
   "outputs": [],
   "source": [
    "coeff=lm(X,Y,100,2,10)"
   ]
  },
  {
   "cell_type": "code",
   "execution_count": 67,
   "metadata": {},
   "outputs": [
    {
     "data": {
      "image/png": "[encoded data removed]",
      "text/plain": [
       "<matplotlib.figure.Figure at 0x5c0bac8>"
      ]
     },
     "metadata": {},
     "output_type": "display_data"
    }
   ],
   "source": [
    "#Linear Regression\n",
    "xx = np.linspace(3.5, 7, 20)\n",
    "yy = np.array(coeff[0] + coeff[1]* np.power(xx,1) )\n",
    "plt.plot(xx, yy.T, color='r')\n",
    "plt.scatter(d1[:,0], Y,s=50)\n",
    "plt.show()"
   ]
  }
 ],
 "metadata": {
  "anaconda-cloud": {},
  "kernelspec": {
   "display_name": "Python 3",
   "language": "python",
   "name": "python3"
  },
  "language_info": {
   "codemirror_mode": {
    "name": "ipython",
    "version": 3
   },
   "file_extension": ".py",
   "mimetype": "text/x-python",
   "name": "python",
   "nbconvert_exporter": "python",
   "pygments_lexer": "ipython3",
   "version": "3.6.3"
  }
 },
 "nbformat": 4,
 "nbformat_minor": 1
}
