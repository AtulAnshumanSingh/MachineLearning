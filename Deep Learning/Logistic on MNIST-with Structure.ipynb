{
 "cells": [
  {
   "cell_type": "code",
   "execution_count": 6,
   "metadata": {},
   "outputs": [],
   "source": [
    "import time\n",
    "import numpy as np\n",
    "import tensorflow as tf\n",
    "from tensorflow.examples.tutorials.mnist import input_data"
   ]
  },
  {
   "cell_type": "code",
   "execution_count": 115,
   "metadata": {},
   "outputs": [],
   "source": [
    "class LogisticRegression:\n",
    "    \n",
    "    #intialize model parametersc\n",
    "    def __init__ (self,learning_rate, batch_size, n_epochs):\n",
    "        \n",
    "        self.learning_rate = learning_rate\n",
    "        self.batch_size =batch_size\n",
    "        self.n_epochs = n_epochs\n",
    "    \n",
    "    def ReadData(self,PATH):\n",
    "        \n",
    "        self.MNIST = input_data.read_data_sets(PATH, one_hot=True)\n",
    "        \n",
    "    def DecInput(self):\n",
    "        \n",
    "        self.X =  tf.placeholder(tf.float32, shape =[self.batch_size,784])\n",
    "        self.Y =  tf.placeholder(tf.float32, shape =[self.batch_size,10])\n",
    "\n",
    "    def DecVariables(self):\n",
    "        \n",
    "        self.W = tf.Variable(tf.random_normal(shape=[784, 10], stddev=0.01), name=\"weights\")\n",
    "        self.b = tf.Variable(tf.zeros([1, 10]), name=\"bias\")\n",
    "        self.logits = tf.matmul(self.X, self.W) + self.b\n",
    "    \n",
    "    def _Loss(self):\n",
    "        \n",
    "        self.entropy = tf.nn.softmax_cross_entropy_with_logits_v2(labels = self.Y,logits = self.logits)\n",
    "        self.loss = tf.reduce_mean(self.entropy)\n",
    "        \n",
    "    def _create_optimizer(self):\n",
    "        \n",
    "        self.optimizer = tf.train.GradientDescentOptimizer(learning_rate=self.learning_rate).minimize(self.loss)\n",
    "    \n",
    "    def _Build_Graph(self):\n",
    "        \n",
    "        self.DecInput()\n",
    "        self.DecVariables()\n",
    "        self._Loss()\n",
    "        self._create_optimizer()\n",
    "    \n",
    "    def buildSum(self,sess):\n",
    "        \n",
    "        n_batches = int(self.MNIST.test.num_examples/self.batch_size)\n",
    "        self.total_correct_preds = 0\n",
    "        for i in range(n_batches):\n",
    "            X_batch, Y_batch = self.MNIST.test.next_batch(batch_size)\n",
    "            _, logits_batch = sess.run([self.optimizer, self.logits],\n",
    "            feed_dict={self.X: X_batch, self.Y:Y_batch})\n",
    "            preds = tf.nn.softmax(logits_batch)\n",
    "            correct_preds = tf.equal(tf.argmax(preds, 1), tf.argmax(Y_batch, 1))\n",
    "            accuracy = tf.reduce_sum(tf.cast(correct_preds, tf.float32)) \n",
    "            self.total_correct_preds += sess.run(accuracy)\n",
    "        \n",
    "        return self.total_correct_preds\n",
    "\n",
    "def _train(model):\n",
    "\n",
    "    init = tf.global_variables_initializer()\n",
    "    sess = tf.Session()\n",
    "    sess.run(init)\n",
    "    n_batches = int(model.MNIST.train.num_examples/model.batch_size)\n",
    "    for i in range(model.n_epochs): # train the model n_epochs times\n",
    "        for _ in range(n_batches):\n",
    "            X_batch, Y_batch = model.MNIST.train.next_batch(model.batch_size)\n",
    "            sess.run(model.optimizer, feed_dict={model.X: X_batch, model.Y:Y_batch})\n",
    "    \n",
    "    acc = model.buildSum(sess)\n",
    "    return acc"
   ]
  },
  {
   "cell_type": "code",
   "execution_count": 111,
   "metadata": {},
   "outputs": [],
   "source": [
    "learning_rate = 0.01\n",
    "batch_size = 128\n",
    "n_epochs = 25\n",
    "model = LogisticRegression(learning_rate, batch_size, n_epochs)"
   ]
  },
  {
   "cell_type": "code",
   "execution_count": 112,
   "metadata": {},
   "outputs": [
    {
     "name": "stdout",
     "output_type": "stream",
     "text": [
      "Extracting /data/mnist\\train-images-idx3-ubyte.gz\n",
      "Extracting /data/mnist\\train-labels-idx1-ubyte.gz\n",
      "Extracting /data/mnist\\t10k-images-idx3-ubyte.gz\n",
      "Extracting /data/mnist\\t10k-labels-idx1-ubyte.gz\n"
     ]
    }
   ],
   "source": [
    "model.ReadData(\"/data/mnist\")"
   ]
  },
  {
   "cell_type": "code",
   "execution_count": 113,
   "metadata": {},
   "outputs": [],
   "source": [
    "model._Build_Graph()"
   ]
  },
  {
   "cell_type": "code",
   "execution_count": 116,
   "metadata": {},
   "outputs": [],
   "source": [
    "acc = _train(model)"
   ]
  }
 ],
 "metadata": {
  "kernelspec": {
   "display_name": "Python 3",
   "language": "python",
   "name": "python3"
  },
  "language_info": {
   "codemirror_mode": {
    "name": "ipython",
    "version": 3
   },
   "file_extension": ".py",
   "mimetype": "text/x-python",
   "name": "python",
   "nbconvert_exporter": "python",
   "pygments_lexer": "ipython3",
   "version": "3.6.8"
  }
 },
 "nbformat": 4,
 "nbformat_minor": 2
}
