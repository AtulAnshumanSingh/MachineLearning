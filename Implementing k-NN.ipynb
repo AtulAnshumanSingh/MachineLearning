{
 "cells": [
  {
   "cell_type": "markdown",
   "metadata": {},
   "source": [
    "# Implementing k-NN for Wikipedia Article Segmentation"
   ]
  },
  {
   "cell_type": "markdown",
   "metadata": {},
   "source": [
    "##### This is based on assignment in the Machine Learning specialization by University of Washington on Coursera\n",
    "In this notebook I have implemented two different types of distance measure (a) Euclidean distance (b) Cosine similarity. \n",
    "\n",
    "Further, I have implemented two different types of document representation (a) Word count (b) Term frequency-Inverse Document frequency. Both these methods have been implemented through brute force method. In another notebook elsewhere I have implemented KD-Tree for search space segmentation.  \n",
    "\n",
    "The documents are provided as text in the python data frame. "
   ]
  },
  {
   "cell_type": "code",
   "execution_count": 98,
   "metadata": {
    "collapsed": true
   },
   "outputs": [],
   "source": [
    "import numpy as ny \n",
    "import pandas as pd\n",
    "import math \n",
    "import operator"
   ]
  },
  {
   "cell_type": "code",
   "execution_count": 99,
   "metadata": {
    "collapsed": false
   },
   "outputs": [],
   "source": [
    "people_wiki = pd.read_csv(\"people_wiki.csv\")"
   ]
  },
  {
   "cell_type": "markdown",
   "metadata": {},
   "source": [
    "#### Calculating Euclidean distance between Barack Obama and other articles using \"word count\" through Brute Force approach"
   ]
  },
  {
   "cell_type": "code",
   "execution_count": 100,
   "metadata": {
    "collapsed": false
   },
   "outputs": [],
   "source": [
    "text=people_wiki['text']  ## to get the cell value from a dataframe"
   ]
  },
  {
   "cell_type": "code",
   "execution_count": 101,
   "metadata": {
    "collapsed": false
   },
   "outputs": [],
   "source": [
    "word_count= []\n",
    "for i in range(0,len(text)):\n",
    "    text_words=text[i].split()\n",
    "    word_list = {}\n",
    "    for words in text_words:\n",
    "        if words in word_list:\n",
    "            word_list[words]=word_list[words]+1\n",
    "        else:\n",
    "            word_list[words]=1\n",
    "    word_count.append(word_list)"
   ]
  },
  {
   "cell_type": "code",
   "execution_count": 102,
   "metadata": {
    "collapsed": false
   },
   "outputs": [],
   "source": [
    "people_wiki['word_count']=word_count"
   ]
  },
  {
   "cell_type": "code",
   "execution_count": 20,
   "metadata": {
    "collapsed": true
   },
   "outputs": [],
   "source": [
    "BO=people_wiki[people_wiki['name']=='Barack Obama']"
   ]
  },
  {
   "cell_type": "code",
   "execution_count": 21,
   "metadata": {
    "collapsed": true
   },
   "outputs": [],
   "source": [
    "temp=people_wiki.head(100)"
   ]
  },
  {
   "cell_type": "code",
   "execution_count": 22,
   "metadata": {
    "collapsed": false
   },
   "outputs": [],
   "source": [
    "k=10    # k is the number of nearest neigbour in k-NN\n",
    "list_of_knn={}\n",
    "for names in temp['name']:\n",
    "    dist=0\n",
    "    TR=temp[temp['name']==names]\n",
    "    for xq_keys in BO.iloc[0]['word_count'].keys():\n",
    "        xq=BO.iloc[0]['word_count'][xq_keys]\n",
    "        if xq_keys in TR.iloc[0]['word_count'].keys():\n",
    "            xi=TR.iloc[0]['word_count'][xq_keys]\n",
    "            dist=dist+(xq-xi)*(xq-xi)\n",
    "        else:\n",
    "            dist=dist+xq*xq\n",
    "    list_of_knn[TR.iloc[0]['name']]=math.sqrt(dist)\n",
    "    sorted_list_of_knn = sorted(iter(list_of_knn.items()), key=operator.itemgetter(1))\n",
    "    knn=sorted_list_of_knn[0:k]    "
   ]
  },
  {
   "cell_type": "markdown",
   "metadata": {},
   "source": [
    "#### Calculating Euclidean distance between Barack Obama and other articles using \"TF-IDF\" through Brute Force approach"
   ]
  },
  {
   "cell_type": "code",
   "execution_count": 25,
   "metadata": {
    "collapsed": false
   },
   "outputs": [],
   "source": [
    "BO=people_wiki[people_wiki['name']=='Barack Obama']"
   ]
  },
  {
   "cell_type": "code",
   "execution_count": 221,
   "metadata": {
    "collapsed": false
   },
   "outputs": [],
   "source": [
    "temp_TFIDF=people_wiki[people_wiki['name'].isin(['Barack Obama', 'Joe Biden', 'Jeff Sessions', 'Jesse Lee (politician)','Samantha Power'])]"
   ]
  },
  {
   "cell_type": "code",
   "execution_count": 222,
   "metadata": {
    "collapsed": false
   },
   "outputs": [],
   "source": [
    "words_idf = {} \n",
    "for names in temp_TFIDF['name']:\n",
    "    curr=temp_TFIDF[temp_TFIDF['name']==names]\n",
    "    for words in curr.iloc[0]['word_count'].keys():\n",
    "        for i in range(0,len(temp_TFIDF)):\n",
    "            if words in temp_TFIDF.iloc[i]['word_count'].keys():\n",
    "                if words not in words_idf.keys():\n",
    "                    words_idf[words]=1\n",
    "                else:\n",
    "                    words_idf[words]=words_idf[words]+1              \n",
    "        "
   ]
  },
  {
   "cell_type": "code",
   "execution_count": 223,
   "metadata": {
    "collapsed": false
   },
   "outputs": [],
   "source": [
    "tf_idf_list=[]\n",
    "for names in temp_TFIDF['name']:\n",
    "    tf_idf={}\n",
    "    curr=temp_TFIDF[temp_TFIDF['name']==names]\n",
    "    for words in curr.iloc[0]['word_count'].keys():\n",
    "        tf_idf[words]=math.log((curr.iloc[0]['word_count'][words])/(1+words_idf[words]))\n",
    "    tf_idf_list.append(tf_idf)\n",
    "temp_TFIDF['tf_idf']=tf_idf_list"
   ]
  },
  {
   "cell_type": "code",
   "execution_count": 93,
   "metadata": {
    "collapsed": false
   },
   "outputs": [],
   "source": [
    "BO=temp_TFIDF[temp_TFIDF['name']=='Barack Obama']"
   ]
  },
  {
   "cell_type": "code",
   "execution_count": 94,
   "metadata": {
    "collapsed": false
   },
   "outputs": [],
   "source": [
    "k=2    # k is the number of nearest neigbour in k-NN\n",
    "list_of_knn_tf={}\n",
    "for names in temp_TFIDF['name']:\n",
    "    dist=0\n",
    "    TR=temp_TFIDF[temp_TFIDF['name']==names]\n",
    "    for xq_keys in BO.iloc[0]['tf_idf'].keys():\n",
    "        xq=BO.iloc[0]['tf_idf'][xq_keys]\n",
    "        if xq_keys in TR.iloc[0]['tf_idf'].keys():\n",
    "            xi=TR.iloc[0]['tf_idf'][xq_keys]\n",
    "            dist=dist+(xq-xi)*(xq-xi)\n",
    "        else:\n",
    "            dist=dist+xq*xq\n",
    "    list_of_knn_tf[TR.iloc[0]['name']]=math.sqrt(dist)\n",
    "    sorted_list_of_knn_tf = sorted(iter(list_of_knn_tf.items()), key=operator.itemgetter(1))\n",
    "    knn_tf=sorted_list_of_knn_tf[0:k]"
   ]
  },
  {
   "cell_type": "markdown",
   "metadata": {},
   "source": [
    "#### Calculating Cosine Similarity between Barack Obama and other articles using \"TF-IDF\" through Brute Force approach"
   ]
  },
  {
   "cell_type": "code",
   "execution_count": 224,
   "metadata": {
    "collapsed": true
   },
   "outputs": [],
   "source": [
    "BO=temp_TFIDF[temp_TFIDF['name']=='Barack Obama']"
   ]
  },
  {
   "cell_type": "code",
   "execution_count": 225,
   "metadata": {
    "collapsed": true
   },
   "outputs": [],
   "source": [
    "temp_cosine=temp_TFIDF[temp_TFIDF['name'].isin(['Barack Obama', 'Joe Biden', 'Jeff Sessions', 'Jesse Lee (politician)','Samantha Power'])]"
   ]
  },
  {
   "cell_type": "code",
   "execution_count": 226,
   "metadata": {
    "collapsed": false
   },
   "outputs": [],
   "source": [
    "k=2    # k is the number of nearest neigbour in k-NN\n",
    "list_of_knn_cosine={}\n",
    "for names in temp_cosine['name']:\n",
    "    xq = []\n",
    "    xi = []\n",
    "    TR=temp_cosine[temp_cosine['name']==names]\n",
    "    for keys in BO.iloc[0]['tf_idf'].keys():\n",
    "        if keys in TR.iloc[0]['tf_idf'].keys():\n",
    "            xq.append(BO.iloc[0]['tf_idf'][keys])\n",
    "            xi.append(TR.iloc[0]['tf_idf'][keys])\n",
    "    x_num=0\n",
    "    xq_den=0\n",
    "    xi_den=0\n",
    "    for i in range(1,len(xq)):\n",
    "        x_num=x_num+xq[i]*xi[i]\n",
    "        xq_den=xq_den+xq[i]*xq[i]\n",
    "        xi_den=xi_den+xi[i]*xi[i]\n",
    "    list_of_knn_cosine[names]=1-(x_num/(math.sqrt(xq_den)*math.sqrt(xi_den)))"
   ]
  }
 ],
 "metadata": {
  "kernelspec": {
   "display_name": "Python [Root]",
   "language": "python",
   "name": "Python [Root]"
  }
 },
 "nbformat": 4,
 "nbformat_minor": 0
}
